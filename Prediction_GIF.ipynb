{
 "cells": [
  {
   "cell_type": "markdown",
   "id": "cb072e14-68bc-48af-ae2c-ea866eaffc06",
   "metadata": {},
   "source": [
    "## GIF movie generator\n",
    "\n",
    "Import packages and predictions from the pickle files"
   ]
  },
  {
   "cell_type": "code",
   "execution_count": null,
   "id": "c45105a7-9584-4dc4-8536-ca3aef6c2012",
   "metadata": {},
   "outputs": [],
   "source": [
    "import pickle\n",
    "import os\n",
    "import pandas as pd\n",
    "import numpy as np\n",
    "import random\n",
    "import matplotlib.pyplot as plt\n",
    "from matplotlib.pyplot import figure\n",
    "from datetime import timedelta, datetime\n",
    "from scipy.stats import johnsonsu\n",
    "import pulp\n",
    "from PIL import Image, ImageDraw\n",
    "\n",
    "path = os.getcwdb().decode(\"utf-8\")+\"/data\""
   ]
  },
  {
   "cell_type": "code",
   "execution_count": null,
   "id": "f162417d-9770-4d27-b20c-8376f6f3dcf5",
   "metadata": {},
   "outputs": [],
   "source": [
    "scaler_x, X_scaled, y_a1, y_a2, y_sp, X_test_scaled, y_test_a1, y_test_a2, y_test_sp, feature_names, imp_order = pickle.load(open(path+\"/pickle_1.pkl\", \"rb\"))\n",
    "auction1_predict_lstm, auction2_predict_lstm, system_price_predict_lstm = pickle.load(open(path+\"/pickle_2_optuna_predict_lstm.pkl\", \"rb\"))\n",
    "auction1_predict_mlp, auction2_predict_mlp, system_price_predict_mlp = pickle.load(open(path+\"/pickle_2_optuna_predict_alt.pkl\", \"rb\"))\n",
    "auction1_predict_qr, auction2_predict_qr, system_price_predict_qr, qt_a1, qt_a2, qt_sp = pickle.load(open(path+\"/pickle_2_2.pkl\", \"rb\"))\n",
    "auction1_predict_sf, auction2_predict_sf, system_price_predict_sf = pickle.load(open(path+\"/pickle_simple_fit.pkl\", \"rb\"))\n"
   ]
  },
  {
   "cell_type": "code",
   "execution_count": null,
   "id": "95b47f1b-ff1b-404a-a031-3cbadd262c9b",
   "metadata": {},
   "outputs": [],
   "source": [
    "auction1_predict_qr     = np.array(auction1_predict_qr)\n",
    "auction2_predict_qr     = np.array(auction2_predict_qr)\n",
    "system_price_predict_qr = np.array(system_price_predict_qr)"
   ]
  },
  {
   "cell_type": "code",
   "execution_count": null,
   "id": "9e59bbdf-15c2-4a70-bbc7-f9c81d3e0fd2",
   "metadata": {},
   "outputs": [],
   "source": [
    "x = np.arange(1,100)/100"
   ]
  },
  {
   "cell_type": "code",
   "execution_count": null,
   "id": "21c87118-0e44-4af9-986c-eb1be245b8b9",
   "metadata": {},
   "outputs": [],
   "source": [
    "testing_start   = datetime(2022,3,2,0,0,0)\n",
    "test_timestamps = [testing_start + timedelta(hours=i) for i in range(len(auction1_predict_lstm))]"
   ]
  },
  {
   "cell_type": "markdown",
   "id": "3449c413-73c6-4118-9e44-fc5bf03f6af7",
   "metadata": {},
   "source": [
    "Generate the pictures for the GIFs. Only first 720 data points used due to computational cost."
   ]
  },
  {
   "cell_type": "code",
   "execution_count": null,
   "id": "71607141-f91c-437f-ab46-c2202134bc56",
   "metadata": {},
   "outputs": [],
   "source": [
    "for i in range(720):#range(len(auction1_predict_lstm)):\n",
    "    y_a1_lstm = johnsonsu.ppf(x, *auction1_predict_lstm[i,:])\n",
    "    y_a2_lstm = johnsonsu.ppf(x, *auction2_predict_lstm[i,:])\n",
    "    y_sp_lstm = johnsonsu.ppf(x, *system_price_predict_lstm[i,:])\n",
    "    y_a1_mlp  = johnsonsu.ppf(x, *auction1_predict_mlp[i+23,:])\n",
    "    y_a2_mlp  = johnsonsu.ppf(x, *auction2_predict_mlp[i+23,:])\n",
    "    y_sp_mlp  = johnsonsu.ppf(x, *system_price_predict_mlp[i+23,:])\n",
    "    y_a1_qr   = johnsonsu.ppf(x, *auction1_predict_qr[i+23,:])\n",
    "    y_a2_qr   = johnsonsu.ppf(x, *auction2_predict_qr[i+23,:])\n",
    "    y_sp_qr   = johnsonsu.ppf(x, *system_price_predict_qr[i+23,:])\n",
    "    y_a1_sf   = johnsonsu.ppf(x, *auction1_predict_sf[i+23,:])\n",
    "    y_a2_sf   = johnsonsu.ppf(x, *auction2_predict_sf[i+23,:])\n",
    "    y_sp_sf   = johnsonsu.ppf(x, *system_price_predict_sf[i+23,:])\n",
    "\n",
    "    plt.clf()\n",
    "    plt.ylabel(\"Predicted price\")\n",
    "    plt.xlabel(\"Quantile\")\n",
    "    plt.title(\"EPEX \"+str(test_timestamps[i]))\n",
    "    plt.ylim((0,800))\n",
    "    plt.plot(x,y_a1_lstm)\n",
    "    plt.plot(x,y_a1_mlp)\n",
    "    plt.plot(x,y_a1_qr)\n",
    "    plt.plot(x,y_a1_sf)\n",
    "    plt.plot([0,1], [y_test_a1[i+23],y_test_a1[i+23]], color=\"black\", lw=0.5)\n",
    "    plt.savefig(path+\"/quantile_gif_a1/quantile_pic_\"+str(i)+\".png\", transparent=True, dpi=300, bbox_inches=\"tight\")    \n",
    "    plt.clf()\n",
    "    plt.ylabel(\"Predicted price\")\n",
    "    plt.xlabel(\"Quantile\")\n",
    "    plt.title(\"Nord Pool \"+str(test_timestamps[i]))\n",
    "    plt.ylim((0,800))\n",
    "    plt.plot(x,y_a2_lstm)\n",
    "    plt.plot(x,y_a2_mlp)\n",
    "    plt.plot(x,y_a2_qr)\n",
    "    plt.plot(x,y_a2_sf)\n",
    "    plt.plot([0,1], [y_test_a2[i+23],y_test_a2[i+23]], color=\"black\", lw=0.5)\n",
    "    plt.savefig(path+\"/quantile_gif_a2/quantile_pic_\"+str(i)+\".png\", transparent=True, dpi=300, bbox_inches=\"tight\")      \n",
    "    plt.clf()\n",
    "    plt.ylabel(\"Predicted price\")\n",
    "    plt.xlabel(\"Quantile\")\n",
    "    plt.title(\"System Prices \"+str(test_timestamps[i]))\n",
    "    plt.ylim((0,800))\n",
    "    plt.plot(x,y_sp_lstm)\n",
    "    plt.plot(x,y_sp_mlp)\n",
    "    plt.plot(x,y_sp_qr)\n",
    "    plt.plot(x,y_sp_sf)\n",
    "    plt.plot([0,1], [y_test_sp[i+23],y_test_sp[i+23]], color=\"black\", lw=0.5)\n",
    "    plt.savefig(path+\"/quantile_gif_sp/quantile_pic_\"+str(i)+\".png\", transparent=True, dpi=300, bbox_inches=\"tight\")  "
   ]
  },
  {
   "cell_type": "markdown",
   "id": "02d5fa86-cb99-4a06-87d8-d78e8e20ae92",
   "metadata": {},
   "source": [
    "Generate GIFs out of the pictures for each time series."
   ]
  },
  {
   "cell_type": "code",
   "execution_count": null,
   "id": "342965fb-8342-4aad-8bb6-4b75d00315e3",
   "metadata": {},
   "outputs": [],
   "source": [
    "images = []\n",
    "for i in range(720):\n",
    "    images.append(Image.open(path+\"/quantile_gif_a1/quantile_pic_\"+str(i)+\".png\"))\n",
    "images[0].save(path+\"/movie_a1.gif\", format='GIF', save_all=True, append_images=images[1:], duration=3, loop=0, transparency=0, disposal=2)\n",
    "images = []\n",
    "for i in range(720):\n",
    "    images.append(Image.open(path+\"/quantile_gif_a2/quantile_pic_\"+str(i)+\".png\"))\n",
    "images[0].save(path+\"/movie_a2.gif\", format='GIF', save_all=True, append_images=images[1:], duration=3, loop=0, transparency=0, disposal=2)\n",
    "images = []\n",
    "for i in range(720):\n",
    "    images.append(Image.open(path+\"/quantile_gif_sp/quantile_pic_\"+str(i)+\".png\"))\n",
    "images[0].save(path+\"/movie_sp.gif\", format='GIF', save_all=True, append_images=images[1:], duration=3, loop=0, transparency=0, disposal=2)\n"
   ]
  }
 ],
 "metadata": {
  "kernelspec": {
   "display_name": "Python 3 (ipykernel)",
   "language": "python",
   "name": "python3"
  },
  "language_info": {
   "codemirror_mode": {
    "name": "ipython",
    "version": 3
   },
   "file_extension": ".py",
   "mimetype": "text/x-python",
   "name": "python",
   "nbconvert_exporter": "python",
   "pygments_lexer": "ipython3",
   "version": "3.9.13"
  }
 },
 "nbformat": 4,
 "nbformat_minor": 5
}
