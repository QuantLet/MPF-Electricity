{
 "cells": [
  {
   "cell_type": "markdown",
   "id": "27ab29ab-ad16-4508-82c2-8e98e7178c3a",
   "metadata": {},
   "source": [
    "## Simple fit generator\n",
    "\n",
    "Generate fit based on 30-day historical data"
   ]
  },
  {
   "cell_type": "code",
   "execution_count": null,
   "id": "7151484c-efaa-4dae-baf6-f3364bd75b97",
   "metadata": {},
   "outputs": [],
   "source": [
    "import pickle\n",
    "import os\n",
    "import numpy as np\n",
    "from scipy.stats import johnsonsu\n",
    "path = os.getcwdb().decode(\"utf-8\")+\"/data\""
   ]
  },
  {
   "cell_type": "code",
   "execution_count": null,
   "id": "918fe485-d0e4-44fc-b441-ad4625c5f02d",
   "metadata": {},
   "outputs": [],
   "source": [
    "test_len = len(y_test_a1)\n",
    "y_a1 = np.concatenate([y_a1, y_test_a1])\n",
    "y_a2 = np.concatenate([y_a2, y_test_a2])\n",
    "y_sp = np.concatenate([y_sp, y_test_sp])"
   ]
  },
  {
   "cell_type": "code",
   "execution_count": null,
   "id": "288d8a0d-d642-49b2-81ff-f8462f8131fc",
   "metadata": {},
   "outputs": [],
   "source": [
    "i = test_len\n",
    "y_a1[-test_len-720+i:-test_len+i]"
   ]
  },
  {
   "cell_type": "code",
   "execution_count": null,
   "id": "fd48b147-208e-4d42-8151-d81954c548d8",
   "metadata": {},
   "outputs": [],
   "source": [
    "print(\"Running\")\n",
    "fit_a1 = []\n",
    "fit_a2 = []\n",
    "fit_sp = []\n",
    "for i in range(test_len-1):\n",
    "    fit_a1.append(johnsonsu.fit(y_a1[-test_len-720+i:-test_len+i]))\n",
    "    fit_a2.append(johnsonsu.fit(y_a2[-test_len-720+i:-test_len+i]))\n",
    "    fit_sp.append(johnsonsu.fit(y_sp[-test_len-720+i:-test_len+i]))\n",
    "fit_a1.append(johnsonsu.fit(y_a1[-720:]))    \n",
    "fit_a2.append(johnsonsu.fit(y_a2[-720:]))    \n",
    "fit_sp.append(johnsonsu.fit(y_sp[-720:]))    "
   ]
  },
  {
   "cell_type": "code",
   "execution_count": null,
   "id": "3b33cceb-21d5-4996-80f8-35bc31f80cc7",
   "metadata": {},
   "outputs": [],
   "source": [
    "len(fit_a1)"
   ]
  },
  {
   "cell_type": "code",
   "execution_count": null,
   "id": "c60de544-72dd-4722-b7a5-5915b0c35acb",
   "metadata": {},
   "outputs": [],
   "source": [
    "fit_a1 = np.array(fit_a1)\n",
    "fit_a2 = np.array(fit_a2)\n",
    "fit_sp = np.array(fit_sp)\n",
    "pickle_obj = [fit_a1, fit_a2, fit_sp]\n",
    "pickle.dump(pickle_obj, open(path+\"/pickle_simple_fit.pkl\", \"wb\"))"
   ]
  }
 ],
 "metadata": {
  "kernelspec": {
   "display_name": "Python 3 (ipykernel)",
   "language": "python",
   "name": "python3"
  },
  "language_info": {
   "codemirror_mode": {
    "name": "ipython",
    "version": 3
   },
   "file_extension": ".py",
   "mimetype": "text/x-python",
   "name": "python",
   "nbconvert_exporter": "python",
   "pygments_lexer": "ipython3",
   "version": "3.9.13"
  }
 },
 "nbformat": 4,
 "nbformat_minor": 5
}
