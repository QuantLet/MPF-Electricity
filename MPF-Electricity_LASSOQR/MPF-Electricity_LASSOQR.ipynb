{
 "cells": [
  {
   "cell_type": "markdown",
   "id": "c8cb6299-1a16-428f-8b5c-e57a372cb734",
   "metadata": {},
   "source": [
    "## Quantile regression\n",
    "\n",
    "First, import from pickle and packages"
   ]
  },
  {
   "cell_type": "code",
   "execution_count": null,
   "id": "0fbc4c35-b847-4e4b-8b77-87990ee6f4a3",
   "metadata": {},
   "outputs": [],
   "source": [
    "import pickle\n",
    "import os\n",
    "import pandas as pd\n",
    "import numpy as np\n",
    "from scipy.stats import johnsonsu, uniform\n",
    "from sklearn.linear_model import QuantileRegressor\n",
    "\n",
    "path = os.getcwdb().decode(\"utf-8\")+\"/data\""
   ]
  },
  {
   "cell_type": "code",
   "execution_count": null,
   "id": "7954696b-c355-49bb-bc4b-a292605f64c9",
   "metadata": {},
   "outputs": [],
   "source": [
    "scaler_x, X_scaled, y_a1, y_a2, y_sp, X_test_scaled, y_test_a1, y_test_a2, y_test_sp, feature_names, imp_order = pickle.load(open(path+\"/pickle_1.pkl\", \"rb\"))"
   ]
  },
  {
   "cell_type": "markdown",
   "id": "816d0e9b-84eb-4dcc-a64f-b95b33330ceb",
   "metadata": {},
   "source": [
    "Prepare data for shifting window regression"
   ]
  },
  {
   "cell_type": "code",
   "execution_count": null,
   "id": "a2c563e2-960f-4bc4-919f-4b34e93e23e5",
   "metadata": {},
   "outputs": [],
   "source": [
    "X_scaled=np.concatenate([X_scaled, X_test_scaled])\n",
    "y_a1=np.concatenate([y_a1, y_test_a1])\n",
    "y_a2=np.concatenate([y_a2, y_test_a2])\n",
    "y_sp=np.concatenate([y_sp, y_test_sp])"
   ]
  },
  {
   "cell_type": "code",
   "execution_count": null,
   "id": "654fdc69-b8c1-4447-b890-0b9c09515882",
   "metadata": {},
   "outputs": [],
   "source": [
    "test_len = len(y_test_a1)\n",
    "quantiles = np.linspace(start=0.01, stop=0.99, num=99)\n",
    "predictions_a1 = np.zeros([len(X_test_scaled), len(quantiles)])\n",
    "predictions_a2 = np.zeros([len(X_test_scaled), len(quantiles)])\n",
    "predictions_sp = np.zeros([len(X_test_scaled), len(quantiles)])\n",
    "row_ind = 0\n",
    "fit_res_a1=[]\n",
    "fit_res_a2=[]\n",
    "fit_res_sp=[]"
   ]
  },
  {
   "cell_type": "markdown",
   "id": "e2934d34-5870-486c-9ccf-e01eace57a50",
   "metadata": {},
   "source": [
    "Run quantile regression with shifts of 720 data points. Includes failsafe if not converging (did not happen in practice)."
   ]
  },
  {
   "cell_type": "code",
   "execution_count": null,
   "id": "328bb25a-0ffb-4a31-9911-ff82637ebc34",
   "metadata": {},
   "outputs": [],
   "source": [
    "while test_len>0:\n",
    "    ind = 0\n",
    "    for quantile in quantiles:\n",
    "        qr1 = QuantileRegressor(quantile=quantile, alpha=0.01, solver=\"highs\")\n",
    "        qr2 = QuantileRegressor(quantile=quantile, alpha=0.01, solver=\"highs\")\n",
    "        qr3 = QuantileRegressor(quantile=quantile, alpha=0.01, solver=\"highs\")\n",
    "        try:    \n",
    "            if test_len>=720:\n",
    "                y_pred_a1 = qr1.fit(X_scaled[:-test_len,:], y_a1[:-test_len].ravel()).predict(X_scaled[-test_len:-test_len+24*30,:])\n",
    "            else:\n",
    "                y_pred_a1 = qr1.fit(X_scaled[:-test_len,:], y_a1[:-test_len].ravel()).predict(X_scaled[-test_len:,:])\n",
    "        except:\n",
    "            y_pred_a1 = [-1000000000 for i in range(min(720, test_len))]\n",
    "        try:    \n",
    "            if test_len>=720:\n",
    "                y_pred_a2 = qr2.fit(X_scaled[:-test_len,:], y_a2[:-test_len].ravel()).predict(X_scaled[-test_len:-test_len+24*30,:])\n",
    "            else:\n",
    "                y_pred_a2 = qr2.fit(X_scaled[:-test_len,:], y_a2[:-test_len].ravel()).predict(X_scaled[-test_len:,:])\n",
    "        except:\n",
    "            y_pred_a2 = [-1000000000 for i in range(min(720, test_len))]\n",
    "        try:\n",
    "            if test_len>=720:\n",
    "                y_pred_sp = qr3.fit(X_scaled[:-test_len,:], y_sp[:-test_len].ravel()).predict(X_scaled[-test_len:-test_len+24*30,:])\n",
    "            else:\n",
    "                y_pred_sp = qr3.fit(X_scaled[:-test_len,:], y_sp[:-test_len].ravel()).predict(X_scaled[-test_len:,:])\n",
    "        except:\n",
    "            y_pred_sp = [-1000000000 for i in range(min(720, test_len))]  \n",
    "        predictions_a1[row_ind:min(row_ind+24*30,len(predictions_a1)),ind] = y_pred_a1\n",
    "        predictions_a2[row_ind:min(row_ind+24*30,len(predictions_a2)),ind] = y_pred_a2\n",
    "        predictions_sp[row_ind:min(row_ind+24*30,len(predictions_sp)),ind] = y_pred_sp\n",
    "        ind+=1\n",
    "    test_len-=24*30\n",
    "    row_ind+=24*30\n",
    "    pickle_obj=[fit_res_a1, fit_res_a2, fit_res_sp, predictions_a1, predictions_a2, predictions_sp]\n",
    "    pickle.dump(pickle_obj, open(path+\"/pickle_qr.pkl\", \"wb\"))\n"
   ]
  },
  {
   "cell_type": "code",
   "execution_count": null,
   "id": "ed462f4e-bb91-4388-af6f-7c7ebb92fc18",
   "metadata": {},
   "outputs": [],
   "source": [
    "from sklearn.metrics import mean_pinball_loss\n",
    "def pinball_score_qr(y, y_pred):\n",
    "    loss_total = 0\n",
    "    loss_list = []\n",
    "    for i in range(1,100):\n",
    "        #y_pred = np.zeros(len(y))\n",
    "        #for j in range(len(y)):\n",
    "        #    y_pred[j] = johnsonsu.ppf(i/100, params[j,0], params[j,1], params[j,2], params[j,3])\n",
    "        #print(max(y_pred))    \n",
    "        loss = mean_pinball_loss(y, y_pred[:,i-1], alpha=i/100)\n",
    "        loss_list.append(loss)\n",
    "        #print(loss)\n",
    "        loss_total+=loss\n",
    "    return loss_total/99, loss_list"
   ]
  },
  {
   "cell_type": "markdown",
   "id": "4b850576-f7c3-4cea-b2bb-ca248085a0d3",
   "metadata": {},
   "source": [
    "Fit quantiles to Johnson's SU distribution"
   ]
  },
  {
   "cell_type": "code",
   "execution_count": null,
   "id": "86aacd74-82de-45ef-afa1-efa5450ddd2b",
   "metadata": {},
   "outputs": [],
   "source": [
    "fit_res_a1=[]\n",
    "fit_res_a2=[]\n",
    "fit_res_sp=[]\n",
    "for i in range(len(X_test_scaled)):\n",
    "    fit_res_a1.append(johnsonsu.fit(predictions_a1[i,:], fscale=1))    \n",
    "    fit_res_a2.append(johnsonsu.fit(predictions_a2[i,:], fscale=1))    \n",
    "    fit_res_sp.append(johnsonsu.fit(predictions_sp[i,:], fscale=1))"
   ]
  },
  {
   "cell_type": "markdown",
   "id": "ac438f94-7f52-4615-8c56-7abdcd367eed",
   "metadata": {},
   "source": [
    "Save to pickle"
   ]
  },
  {
   "cell_type": "code",
   "execution_count": null,
   "id": "46292ba2-ed59-4433-bad2-de958680d974",
   "metadata": {},
   "outputs": [],
   "source": [
    "pickle_obj=[fit_res_a1, fit_res_a2, fit_res_sp, predictions_a1, predictions_a2, predictions_sp]\n",
    "pickle.dump(pickle_obj, open(path+\"/pickle_qr_005.pkl\", \"wb\"))\n"
   ]
  }
 ],
 "metadata": {
  "kernelspec": {
   "display_name": "Python 3 (ipykernel)",
   "language": "python",
   "name": "python3"
  },
  "language_info": {
   "codemirror_mode": {
    "name": "ipython",
    "version": 3
   },
   "file_extension": ".py",
   "mimetype": "text/x-python",
   "name": "python",
   "nbconvert_exporter": "python",
   "pygments_lexer": "ipython3",
   "version": "3.9.13"
  }
 },
 "nbformat": 4,
 "nbformat_minor": 5
}
